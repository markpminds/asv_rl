{
 "cells": [
  {
   "cell_type": "code",
   "execution_count": 16,
   "metadata": {},
   "outputs": [],
   "source": [
    "import gymnasium as gym\n",
    "from gymnasium import spaces\n",
    "import numpy as np\n",
    "\n",
    "import matplotlib.pyplot as plt\n",
    "from matplotlib.patches import Circle, Arrow\n",
    "import matplotlib.image as mpimg\n",
    "from matplotlib.offsetbox import OffsetImage, AnnotationBbox\n",
    "\n",
    "Corsair = mpimg.imread(\"/Users/markprettyman/Desktop/asv_rl/src/asv/images/Corsair.png\")\n",
    "\n",
    "class ASVVisualizer:\n",
    "    def __init__(self, width=100, height=100):\n",
    "        self.width = width\n",
    "        self.height = height\n",
    "        self.fig, self.ax = plt.subplots(figsize=(8, 8))\n",
    "        self.setup_plot()\n",
    "        \n",
    "    def setup_plot(self):\n",
    "        \"\"\"Setup the plot area\"\"\"\n",
    "        self.ax.set_xlim(-self.width/2, self.width/2)\n",
    "        self.ax.set_ylim(-self.height/2, self.height/2)\n",
    "        self.ax.grid(True)\n",
    "        self.ax.set_aspect('equal')\n",
    "        self.ax.set_title('ASV with Threats and Other Vessels')\n",
    "        \n",
    "    def draw_vessel(self, x, y, heading, size=5):\n",
    "        \"\"\"Draw the vessel as an arrow\"\"\"\n",
    "        # Clear previous drawings\n",
    "        self.ax.clear()\n",
    "        self.setup_plot()\n",
    "        \n",
    "        # Create arrow for vessel\n",
    "        dx = size * np.cos(heading)\n",
    "        dy = size * np.sin(heading)\n",
    "        arrow = Arrow(x, y, dx, dy, width=size/2, color='blue')\n",
    "        self.ax.add_patch(arrow)\n",
    "        \n",
    "        # Draw vessel position circle\n",
    "        imagebox = OffsetImage(Corsair, zoom=0.1)\n",
    "        ab = AnnotationBbox(imagebox, (x, y), frameon=False)\n",
    "        self.ax.add_artist(ab)\n",
    "        \n",
    "    def draw_obstacles(self, obstacles):\n",
    "        \"\"\"Draw obstacles as circles\"\"\"\n",
    "        for obs in obstacles:\n",
    "            x, y, radius = obs\n",
    "            obstacle = Circle((x, y), radius, color='red', alpha=0.5)\n",
    "            self.ax.add_patch(obstacle)\n",
    "            \n",
    "    def draw_goal(self, x, y, radius=3):\n",
    "        \"\"\"Draw the goal position\"\"\"\n",
    "        goal = Circle((x, y), radius, color='green', alpha=0.3)\n",
    "        self.ax.add_patch(goal)\n",
    "        \n",
    "    def render(self):\n",
    "        \"\"\"Update the visualization\"\"\"\n",
    "        plt.draw()\n",
    "        plt.pause(0.01)  # Small pause to update the plot \n",
    "\n",
    "\n",
    "class ASVEnvironment(gym.Env):\n",
    "    def __init__(self):\n",
    "        super(ASVEnvironment, self).__init__()\n",
    "        \n",
    "        # Define action and observation space\n",
    "        # Example: Throttle [-1, 1], Rudder Angle [-30°, 30°] mapped to [-1, 1]\n",
    "        self.action_space = spaces.Box(\n",
    "            low=np.array([-1.0, -np.pi/4]),  # [thrust, rudder_angle]\n",
    "            high=np.array([1.0, np.pi/4]),    # Limit rudder to ±45 degrees\n",
    "            dtype=np.float32\n",
    "        )\n",
    "        \n",
    "        # Example: Position (x, y), Heading (θ), Velocity (vx, vy), Obstacles, etc.\n",
    "        self.observation_space = spaces.Box(\n",
    "            low=np.array([-np.inf, -np.inf, -np.pi, -1.0, -1.0]),\n",
    "            high=np.array([np.inf, np.inf, np.pi, 1.0, 1.0]),\n",
    "            dtype=np.float64\n",
    "        )\n",
    "        \n",
    "        # Initialize environment state\n",
    "        self.visualizer = None\n",
    "        self.state = None\n",
    "        self.obstacles = [[3, 2, 1], [-5, -9, 2]]\n",
    "        self.goal = np.array([10.0, 10.0])\n",
    "        self.time_step = 0.1\n",
    "\n",
    "    def step(self, action):\n",
    "        # Update vessel dynamics based on action\n",
    "        throttle, rudder = action\n",
    "        x, y, heading, vx, vy = self.state\n",
    "        \n",
    "        # dynamics update\n",
    "        acceleration = throttle * 0.1  # throttle-to-acceleration mapping\n",
    "        heading += rudder * self.time_step  # rudder-to-heading mapping\n",
    "        vx += acceleration * np.cos(heading) * self.time_step\n",
    "        vy += acceleration * np.sin(heading) * self.time_step\n",
    "        x += vx * self.time_step\n",
    "        y += vy * self.time_step\n",
    "        \n",
    "        self.state = np.array([x, y, heading, vx, vy])\n",
    "        \n",
    "        # Calculate reward\n",
    "        distance_to_goal = np.linalg.norm(self.goal - np.array([x, y]))\n",
    "        reward = -distance_to_goal  # Penalize distance from goal\n",
    "        \n",
    "        # Check if the episode is done\n",
    "        done = distance_to_goal < 0.5  # Example goal threshold\n",
    "        if np.abs(x) > 20 or np.abs(y) > 20:  # Example out-of-bounds condition\n",
    "            done = True\n",
    "            reward -= 100  # Penalize going out of bounds\n",
    "        \n",
    "        return self.state, reward, done, False, {}\n",
    "    \n",
    "    def reset(self, seed=None, options=None):\n",
    "        # Reset the state of the environment\n",
    "        self.state = np.array([0.0, 0.0, 0.0, 0.0, 0.0])  # [x, y, heading, vx, vy]\n",
    "        return self.state, {}\n",
    "\n",
    "    def render(self):\n",
    "        if self.visualizer is None:\n",
    "            self.visualizer = ASVVisualizer()\n",
    "            \n",
    "        # Extract position and heading from state\n",
    "        x, y, heading = self.state[:3]\n",
    "        \n",
    "        # Draw everything\n",
    "        self.visualizer.draw_vessel(x, y, heading)\n",
    "        self.visualizer.draw_obstacles(self.obstacles)\n",
    "        self.visualizer.draw_goal(*self.goal)\n",
    "        self.visualizer.render()\n",
    "\n",
    "    def close(self):\n",
    "        if self.visualizer is not None:\n",
    "            plt.close(self.visualizer.fig)  \n",
    "            self.visualizer = None\n",
    "\n",
    "\n"
   ]
  },
  {
   "cell_type": "code",
   "execution_count": 18,
   "metadata": {},
   "outputs": [
    {
     "data": {
      "image/png": "[encoded data removed]",
      "text/plain": [
       "<Figure size 800x800 with 1 Axes>"
      ]
     },
     "metadata": {},
     "output_type": "display_data"
    },
    {
     "name": "stdout",
     "output_type": "stream",
     "text": [
      "State: [-3.72197975e-04 -9.27424749e-06  2.49123569e-02 -3.72197975e-03\n",
      " -9.27424749e-05], Reward: -14.142405367654652\n"
     ]
    },
    {
     "data": {
      "text/plain": [
       "<Figure size 640x480 with 0 Axes>"
      ]
     },
     "metadata": {},
     "output_type": "display_data"
    },
    {
     "name": "stdout",
     "output_type": "stream",
     "text": [
      "State: [-9.25343630e-04 -3.97182652e-05  1.16464429e-01 -5.53145655e-03\n",
      " -3.04440177e-04], Reward: -14.142818039405629\n"
     ]
    },
    {
     "data": {
      "text/plain": [
       "<Figure size 640x480 with 0 Axes>"
      ]
     },
     "metadata": {},
     "output_type": "display_data"
    },
    {
     "name": "stdout",
     "output_type": "stream",
     "text": [
      "State: [-1.50871850e-03 -7.26051362e-05  8.06357706e-02 -5.83374874e-03\n",
      " -3.28868710e-04], Reward: -14.14325382485559\n"
     ]
    },
    {
     "data": {
      "text/plain": [
       "<Figure size 640x480 with 0 Axes>"
      ]
     },
     "metadata": {},
     "output_type": "display_data"
    },
    {
     "name": "stdout",
     "output_type": "stream",
     "text": [
      "State: [-1.71610009e-03 -9.64269402e-05  2.41049815e-02 -2.07381587e-03\n",
      " -2.38218039e-04], Reward: -14.143417320255654\n"
     ]
    },
    {
     "data": {
      "text/plain": [
       "<Figure size 640x480 with 0 Axes>"
      ]
     },
     "metadata": {},
     "output_type": "display_data"
    },
    {
     "name": "stdout",
     "output_type": "stream",
     "text": [
      "State: [-1.19512641e-03 -9.85845718e-05  2.97351962e-02  5.20973685e-03\n",
      " -2.15763160e-05], Reward: -14.143050436789974\n"
     ]
    }
   ],
   "source": [
    "env = ASVEnvironment()\n",
    "\n",
    "state, info = env.reset()\n",
    "for _ in range(5):\n",
    "    action = env.action_space.sample()  # Random action\n",
    "    state, reward, done, truncated, info = env.step(action)\n",
    "    env.render()\n",
    "    print(f\"State: {state}, Reward: {reward}\")\n",
    "    if done or truncated:\n",
    "        print(\"Episode finished!\")\n",
    "        break\n",
    "\n",
    "env.close()"
   ]
  }
 ],
 "metadata": {
  "kernelspec": {
   "display_name": "Python 3",
   "language": "python",
   "name": "python3"
  },
  "language_info": {
   "codemirror_mode": {
    "name": "ipython",
    "version": 3
   },
   "file_extension": ".py",
   "mimetype": "text/x-python",
   "name": "python",
   "nbconvert_exporter": "python",
   "pygments_lexer": "ipython3",
   "version": "3.12.8"
  }
 },
 "nbformat": 4,
 "nbformat_minor": 2
}
